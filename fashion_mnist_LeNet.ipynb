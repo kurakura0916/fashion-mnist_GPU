{
  "nbformat": 4,
  "nbformat_minor": 0,
  "metadata": {
    "colab": {
      "name": "fashion_mnist_LeNet.ipynb",
      "version": "0.3.2",
      "provenance": [],
      "include_colab_link": true
    },
    "kernelspec": {
      "name": "python3",
      "display_name": "Python 3"
    },
    "accelerator": "GPU"
  },
  "cells": [
    {
      "cell_type": "markdown",
      "metadata": {
        "id": "view-in-github",
        "colab_type": "text"
      },
      "source": [
        "[View in Colaboratory](https://colab.research.google.com/github/kurakura0916/fashion-mnist_GPU/blob/master/fashion_mnist_LeNet.ipynb)"
      ]
    },
    {
      "metadata": {
        "id": "OLMeu2Udhv7D",
        "colab_type": "code",
        "colab": {
          "base_uri": "https://localhost:8080/",
          "height": 4610
        },
        "outputId": "0f15111e-f503-4b6a-c5df-788735ef5d41"
      },
      "cell_type": "code",
      "source": [
        "!apt -y install libcusparse8.0 libnvrtc8.0 libnvtoolsext1\n",
        "!ln -snf /usr/lib/x86_64-linux-gnu/libnvrtc-builtins.so.8.0 /usr/lib/x86_64-linux-gnu/libnvrtc-builtins.so\n",
        "!pip install https://github.com/kmaehashi/chainer-colab/releases/download/2018-02-06/cupy_cuda80-4.0.0b3-cp36-cp36m-linux_x86_64.whl\n",
        "!pip install 'chainer==4.0.0b3'\n",
        "!apt-get install graphviz\n",
        "!pip install 'chaineripy'"
      ],
      "execution_count": 1,
      "outputs": [
        {
          "output_type": "stream",
          "text": [
            "Reading package lists... Done\n",
            "Building dependency tree       \n",
            "Reading state information... Done\n",
            "The following NEW packages will be installed:\n",
            "  libcusparse8.0 libnvrtc8.0 libnvtoolsext1\n",
            "0 upgraded, 3 newly installed, 0 to remove and 0 not upgraded.\n",
            "Need to get 28.9 MB of archives.\n",
            "After this operation, 71.6 MB of additional disk space will be used.\n",
            "Get:1 http://archive.ubuntu.com/ubuntu artful/multiverse amd64 libcusparse8.0 amd64 8.0.61-1 [22.6 MB]\n",
            "Get:2 http://archive.ubuntu.com/ubuntu artful/multiverse amd64 libnvrtc8.0 amd64 8.0.61-1 [6,225 kB]\n",
            "Get:3 http://archive.ubuntu.com/ubuntu artful/multiverse amd64 libnvtoolsext1 amd64 8.0.61-1 [32.2 kB]\n",
            "Fetched 28.9 MB in 1s (16.2 MB/s)\n",
            "\n",
            "\u001b7\u001b[0;23r\u001b8\u001b[1ASelecting previously unselected package libcusparse8.0:amd64.\n",
            "(Reading database ... 18396 files and directories currently installed.)\n",
            "Preparing to unpack .../libcusparse8.0_8.0.61-1_amd64.deb ...\n",
            "\u001b7\u001b[24;0f\u001b[42m\u001b[30mProgress: [  0%]\u001b[49m\u001b[39m [..........................................................] \u001b8\u001b7\u001b[24;0f\u001b[42m\u001b[30mProgress: [  6%]\u001b[49m\u001b[39m [###.......................................................] \u001b8Unpacking libcusparse8.0:amd64 (8.0.61-1) ...\n",
            "\u001b7\u001b[24;0f\u001b[42m\u001b[30mProgress: [ 12%]\u001b[49m\u001b[39m [#######...................................................] \u001b8\u001b7\u001b[24;0f\u001b[42m\u001b[30mProgress: [ 18%]\u001b[49m\u001b[39m [##########................................................] \u001b8Selecting previously unselected package libnvrtc8.0:amd64.\n",
            "Preparing to unpack .../libnvrtc8.0_8.0.61-1_amd64.deb ...\n",
            "\u001b7\u001b[24;0f\u001b[42m\u001b[30mProgress: [ 25%]\u001b[49m\u001b[39m [##############............................................] \u001b8Unpacking libnvrtc8.0:amd64 (8.0.61-1) ...\n",
            "\u001b7\u001b[24;0f\u001b[42m\u001b[30mProgress: [ 31%]\u001b[49m\u001b[39m [##################........................................] \u001b8\u001b7\u001b[24;0f\u001b[42m\u001b[30mProgress: [ 37%]\u001b[49m\u001b[39m [#####################.....................................] \u001b8Selecting previously unselected package libnvtoolsext1:amd64.\n",
            "Preparing to unpack .../libnvtoolsext1_8.0.61-1_amd64.deb ...\n",
            "\u001b7\u001b[24;0f\u001b[42m\u001b[30mProgress: [ 43%]\u001b[49m\u001b[39m [#########################.................................] \u001b8Unpacking libnvtoolsext1:amd64 (8.0.61-1) ...\n",
            "\u001b7\u001b[24;0f\u001b[42m\u001b[30mProgress: [ 50%]\u001b[49m\u001b[39m [#############################.............................] \u001b8\u001b7\u001b[24;0f\u001b[42m\u001b[30mProgress: [ 56%]\u001b[49m\u001b[39m [################################..........................] \u001b8Setting up libnvtoolsext1:amd64 (8.0.61-1) ...\n",
            "\u001b7\u001b[24;0f\u001b[42m\u001b[30mProgress: [ 62%]\u001b[49m\u001b[39m [####################################......................] \u001b8\u001b7\u001b[24;0f\u001b[42m\u001b[30mProgress: [ 68%]\u001b[49m\u001b[39m [#######################################...................] \u001b8Setting up libcusparse8.0:amd64 (8.0.61-1) ...\n",
            "\u001b7\u001b[24;0f\u001b[42m\u001b[30mProgress: [ 75%]\u001b[49m\u001b[39m [###########################################...............] \u001b8\u001b7\u001b[24;0f\u001b[42m\u001b[30mProgress: [ 81%]\u001b[49m\u001b[39m [###############################################...........] \u001b8Setting up libnvrtc8.0:amd64 (8.0.61-1) ...\n",
            "\u001b7\u001b[24;0f\u001b[42m\u001b[30mProgress: [ 87%]\u001b[49m\u001b[39m [##################################################........] \u001b8\u001b7\u001b[24;0f\u001b[42m\u001b[30mProgress: [ 93%]\u001b[49m\u001b[39m [######################################################....] \u001b8Processing triggers for libc-bin (2.26-0ubuntu2.1) ...\n",
            "\n",
            "\u001b7\u001b[0;24r\u001b8\u001b[1A\u001b[JCollecting cupy-cuda80==4.0.0b3 from https://github.com/kmaehashi/chainer-colab/releases/download/2018-02-06/cupy_cuda80-4.0.0b3-cp36-cp36m-linux_x86_64.whl\n",
            "\u001b[?25l  Downloading https://github.com/kmaehashi/chainer-colab/releases/download/2018-02-06/cupy_cuda80-4.0.0b3-cp36-cp36m-linux_x86_64.whl (205.2MB)\n",
            "\u001b[K    14% |████▋                           | 29.8MB 42.0MB/s eta 0:00:05"
          ],
          "name": "stdout"
        },
        {
          "output_type": "stream",
          "text": [
            "\u001b[K    100% |████████████████████████████████| 205.2MB 190kB/s \n",
            "\u001b[?25hCollecting fastrlock>=0.3 (from cupy-cuda80==4.0.0b3)\n",
            "\u001b[?25l  Downloading https://files.pythonhosted.org/packages/fa/24/767ce4fe23af5a4b3dd229c0e3153a26c0a58331f8f89af324c761663c9c/fastrlock-0.3-cp36-cp36m-manylinux1_x86_64.whl (77kB)\n",
            "\u001b[K    100% |████████████████████████████████| 81kB 2.6MB/s \n",
            "\u001b[?25hRequirement already satisfied: six>=1.9.0 in /usr/local/lib/python3.6/dist-packages (from cupy-cuda80==4.0.0b3) (1.11.0)\n",
            "Requirement already satisfied: numpy>=1.9.0 in /usr/local/lib/python3.6/dist-packages (from cupy-cuda80==4.0.0b3) (1.14.5)\n",
            "Installing collected packages: fastrlock, cupy-cuda80\n",
            "Successfully installed cupy-cuda80-4.0.0b3 fastrlock-0.3\n",
            "Collecting chainer==4.0.0b3\n",
            "\u001b[?25l  Downloading https://files.pythonhosted.org/packages/c1/2d/67575047ae973d241af411294128660fd5674738de5b4735633f6fc1d1c3/chainer-4.0.0b3.tar.gz (366kB)\n",
            "\u001b[K    100% |████████████████████████████████| 368kB 5.7MB/s \n",
            "\u001b[?25hCollecting filelock (from chainer==4.0.0b3)\n",
            "  Downloading https://files.pythonhosted.org/packages/2d/ba/db7e0717368958827fa97af0b8acafd983ac3a6ecd679f60f3ccd6e5b16e/filelock-3.0.4.tar.gz\n",
            "Requirement already satisfied: numpy>=1.9.0 in /usr/local/lib/python3.6/dist-packages (from chainer==4.0.0b3) (1.14.5)\n",
            "Requirement already satisfied: protobuf>=3.0.0 in /usr/local/lib/python3.6/dist-packages (from chainer==4.0.0b3) (3.6.0)\n",
            "Requirement already satisfied: six>=1.9.0 in /usr/local/lib/python3.6/dist-packages (from chainer==4.0.0b3) (1.11.0)\n",
            "Requirement already satisfied: setuptools in /usr/local/lib/python3.6/dist-packages (from protobuf>=3.0.0->chainer==4.0.0b3) (39.1.0)\n",
            "Building wheels for collected packages: chainer, filelock\n",
            "  Running setup.py bdist_wheel for chainer ... \u001b[?25l-\b \b\\\b \b|\b \b/\b \b-\b \bdone\n",
            "\u001b[?25h  Stored in directory: /content/.cache/pip/wheels/7a/e7/26/c13ce14e84f7f2a7209a31f5a1e327b8c681c5bcb3abcd0bec\n",
            "  Running setup.py bdist_wheel for filelock ... \u001b[?25l-\b \bdone\n",
            "\u001b[?25h  Stored in directory: /content/.cache/pip/wheels/35/ba/67/4cc48738870c3b54f9e3b5d78bf9de130befb70c1d359faf8b\n",
            "Successfully built chainer filelock\n",
            "Installing collected packages: filelock, chainer\n",
            "Successfully installed chainer-4.0.0b3 filelock-3.0.4\n",
            "Reading package lists... Done\n",
            "Building dependency tree       \n",
            "Reading state information... Done\n",
            "The following additional packages will be installed:\n",
            "  fontconfig libcairo2 libcdt5 libcgraph6 libdatrie1 libgd3 libgraphite2-3\n",
            "  libgvc6 libgvpr2 libharfbuzz0b libjbig0 libltdl7 libpango-1.0-0\n",
            "  libpangocairo-1.0-0 libpangoft2-1.0-0 libpathplan4 libpixman-1-0\n",
            "  libthai-data libthai0 libtiff5 libwebp6 libxaw7 libxcb-render0 libxcb-shm0\n",
            "  libxmu6 libxpm4 libxt6\n",
            "Suggested packages:\n",
            "  gsfonts graphviz-doc libgd-tools\n",
            "The following NEW packages will be installed:\n",
            "  fontconfig graphviz libcairo2 libcdt5 libcgraph6 libdatrie1 libgd3\n",
            "  libgraphite2-3 libgvc6 libgvpr2 libharfbuzz0b libjbig0 libltdl7\n",
            "  libpango-1.0-0 libpangocairo-1.0-0 libpangoft2-1.0-0 libpathplan4\n",
            "  libpixman-1-0 libthai-data libthai0 libtiff5 libwebp6 libxaw7 libxcb-render0\n",
            "  libxcb-shm0 libxmu6 libxpm4 libxt6\n",
            "0 upgraded, 28 newly installed, 0 to remove and 0 not upgraded.\n",
            "Need to get 4,122 kB of archives.\n",
            "After this operation, 20.6 MB of additional disk space will be used.\n",
            "Get:1 http://archive.ubuntu.com/ubuntu artful/main amd64 fontconfig amd64 2.11.94-0ubuntu2 [177 kB]\n",
            "Get:2 http://archive.ubuntu.com/ubuntu artful/main amd64 libjbig0 amd64 2.1-3.1 [26.6 kB]\n",
            "Get:3 http://archive.ubuntu.com/ubuntu artful/main amd64 libcdt5 amd64 2.38.0-16ubuntu2 [19.5 kB]\n",
            "Get:4 http://archive.ubuntu.com/ubuntu artful/main amd64 libcgraph6 amd64 2.38.0-16ubuntu2 [40.0 kB]\n",
            "Get:5 http://archive.ubuntu.com/ubuntu artful-updates/main amd64 libtiff5 amd64 4.0.8-5ubuntu0.1 [150 kB]\n",
            "Get:6 http://archive.ubuntu.com/ubuntu artful/main amd64 libwebp6 amd64 0.6.0-3 [181 kB]\n",
            "Get:7 http://archive.ubuntu.com/ubuntu artful/main amd64 libxpm4 amd64 1:3.5.12-1 [34.0 kB]\n",
            "Get:8 http://archive.ubuntu.com/ubuntu artful/main amd64 libgd3 amd64 2.2.5-3 [119 kB]\n",
            "Get:9 http://archive.ubuntu.com/ubuntu artful/main amd64 libpixman-1-0 amd64 0.34.0-1 [230 kB]\n",
            "Get:10 http://archive.ubuntu.com/ubuntu artful/main amd64 libxcb-render0 amd64 1.12-1ubuntu1 [14.8 kB]\n",
            "25% [10 libxcb-render0 0 B/14.8 kB 0%]"
          ],
          "name": "stdout"
        },
        {
          "output_type": "stream",
          "text": [
            "\r                                      \r26% [Working]\r             \rGet:11 http://archive.ubuntu.com/ubuntu artful/main amd64 libxcb-shm0 amd64 1.12-1ubuntu1 [5,482 B]\r\n",
            "Get:12 http://archive.ubuntu.com/ubuntu artful/main amd64 libcairo2 amd64 1.14.10-1ubuntu1 [558 kB]\n",
            "Get:13 http://archive.ubuntu.com/ubuntu artful/main amd64 libltdl7 amd64 2.4.6-2 [38.8 kB]\n",
            "Get:14 http://archive.ubuntu.com/ubuntu artful/main amd64 libthai-data all 0.1.26-3 [132 kB]\n",
            "Get:15 http://archive.ubuntu.com/ubuntu artful/main amd64 libdatrie1 amd64 0.2.10-5 [17.6 kB]\n",
            "Get:16 http://archive.ubuntu.com/ubuntu artful/main amd64 libthai0 amd64 0.1.26-3 [17.7 kB]\n",
            "Get:17 http://archive.ubuntu.com/ubuntu artful/main amd64 libpango-1.0-0 amd64 1.40.12-1 [152 kB]\n",
            "Get:18 http://archive.ubuntu.com/ubuntu artful/main amd64 libgraphite2-3 amd64 1.3.10-2 [78.3 kB]\n",
            "Get:19 http://archive.ubuntu.com/ubuntu artful/main amd64 libharfbuzz0b amd64 1.4.2-1 [211 kB]\n",
            "Get:20 http://archive.ubuntu.com/ubuntu artful/main amd64 libpangoft2-1.0-0 amd64 1.40.12-1 [33.2 kB]\n",
            "Get:21 http://archive.ubuntu.com/ubuntu artful/main amd64 libpangocairo-1.0-0 amd64 1.40.12-1 [20.8 kB]\n",
            "Get:22 http://archive.ubuntu.com/ubuntu artful/main amd64 libpathplan4 amd64 2.38.0-16ubuntu2 [22.6 kB]\n",
            "Get:23 http://archive.ubuntu.com/ubuntu artful/main amd64 libgvc6 amd64 2.38.0-16ubuntu2 [587 kB]\n",
            "Get:24 http://archive.ubuntu.com/ubuntu artful/main amd64 libgvpr2 amd64 2.38.0-16ubuntu2 [167 kB]\n",
            "Get:25 http://archive.ubuntu.com/ubuntu artful/main amd64 libxt6 amd64 1:1.1.5-1 [160 kB]\n",
            "Get:26 http://archive.ubuntu.com/ubuntu artful/main amd64 libxmu6 amd64 2:1.1.2-2 [46.0 kB]\n",
            "Get:27 http://archive.ubuntu.com/ubuntu artful/main amd64 libxaw7 amd64 2:1.0.13-1 [173 kB]\n",
            "Get:28 http://archive.ubuntu.com/ubuntu artful/main amd64 graphviz amd64 2.38.0-16ubuntu2 [710 kB]\n",
            "Fetched 4,122 kB in 1s (3,533 kB/s)\n",
            "Selecting previously unselected package fontconfig.\n",
            "(Reading database ... 18419 files and directories currently installed.)\n",
            "Preparing to unpack .../00-fontconfig_2.11.94-0ubuntu2_amd64.deb ...\n",
            "Unpacking fontconfig (2.11.94-0ubuntu2) ...\n",
            "Selecting previously unselected package libjbig0:amd64.\n",
            "Preparing to unpack .../01-libjbig0_2.1-3.1_amd64.deb ...\n",
            "Unpacking libjbig0:amd64 (2.1-3.1) ...\n",
            "Selecting previously unselected package libcdt5.\n",
            "Preparing to unpack .../02-libcdt5_2.38.0-16ubuntu2_amd64.deb ...\n",
            "Unpacking libcdt5 (2.38.0-16ubuntu2) ...\n",
            "Selecting previously unselected package libcgraph6.\n",
            "Preparing to unpack .../03-libcgraph6_2.38.0-16ubuntu2_amd64.deb ...\n",
            "Unpacking libcgraph6 (2.38.0-16ubuntu2) ...\n",
            "Selecting previously unselected package libtiff5:amd64.\n",
            "Preparing to unpack .../04-libtiff5_4.0.8-5ubuntu0.1_amd64.deb ...\n",
            "Unpacking libtiff5:amd64 (4.0.8-5ubuntu0.1) ...\n",
            "Selecting previously unselected package libwebp6:amd64.\n",
            "Preparing to unpack .../05-libwebp6_0.6.0-3_amd64.deb ...\n",
            "Unpacking libwebp6:amd64 (0.6.0-3) ...\n",
            "Selecting previously unselected package libxpm4:amd64.\n",
            "Preparing to unpack .../06-libxpm4_1%3a3.5.12-1_amd64.deb ...\n",
            "Unpacking libxpm4:amd64 (1:3.5.12-1) ...\n",
            "Selecting previously unselected package libgd3:amd64.\n",
            "Preparing to unpack .../07-libgd3_2.2.5-3_amd64.deb ...\n",
            "Unpacking libgd3:amd64 (2.2.5-3) ...\n",
            "Selecting previously unselected package libpixman-1-0:amd64.\n",
            "Preparing to unpack .../08-libpixman-1-0_0.34.0-1_amd64.deb ...\n",
            "Unpacking libpixman-1-0:amd64 (0.34.0-1) ...\n",
            "Selecting previously unselected package libxcb-render0:amd64.\n",
            "Preparing to unpack .../09-libxcb-render0_1.12-1ubuntu1_amd64.deb ...\n",
            "Unpacking libxcb-render0:amd64 (1.12-1ubuntu1) ...\n",
            "Selecting previously unselected package libxcb-shm0:amd64.\n",
            "Preparing to unpack .../10-libxcb-shm0_1.12-1ubuntu1_amd64.deb ...\n",
            "Unpacking libxcb-shm0:amd64 (1.12-1ubuntu1) ...\n",
            "Selecting previously unselected package libcairo2:amd64.\n",
            "Preparing to unpack .../11-libcairo2_1.14.10-1ubuntu1_amd64.deb ...\n",
            "Unpacking libcairo2:amd64 (1.14.10-1ubuntu1) ...\n",
            "Selecting previously unselected package libltdl7:amd64.\n",
            "Preparing to unpack .../12-libltdl7_2.4.6-2_amd64.deb ...\n",
            "Unpacking libltdl7:amd64 (2.4.6-2) ...\n",
            "Selecting previously unselected package libthai-data.\n",
            "Preparing to unpack .../13-libthai-data_0.1.26-3_all.deb ...\n",
            "Unpacking libthai-data (0.1.26-3) ...\n",
            "Selecting previously unselected package libdatrie1:amd64.\n",
            "Preparing to unpack .../14-libdatrie1_0.2.10-5_amd64.deb ...\n",
            "Unpacking libdatrie1:amd64 (0.2.10-5) ...\n",
            "Selecting previously unselected package libthai0:amd64.\n",
            "Preparing to unpack .../15-libthai0_0.1.26-3_amd64.deb ...\n",
            "Unpacking libthai0:amd64 (0.1.26-3) ...\n",
            "Selecting previously unselected package libpango-1.0-0:amd64.\n",
            "Preparing to unpack .../16-libpango-1.0-0_1.40.12-1_amd64.deb ...\n",
            "Unpacking libpango-1.0-0:amd64 (1.40.12-1) ...\n",
            "Selecting previously unselected package libgraphite2-3:amd64.\n",
            "Preparing to unpack .../17-libgraphite2-3_1.3.10-2_amd64.deb ...\n",
            "Unpacking libgraphite2-3:amd64 (1.3.10-2) ...\n",
            "Selecting previously unselected package libharfbuzz0b:amd64.\n",
            "Preparing to unpack .../18-libharfbuzz0b_1.4.2-1_amd64.deb ...\n",
            "Unpacking libharfbuzz0b:amd64 (1.4.2-1) ...\n",
            "Selecting previously unselected package libpangoft2-1.0-0:amd64.\n",
            "Preparing to unpack .../19-libpangoft2-1.0-0_1.40.12-1_amd64.deb ...\n",
            "Unpacking libpangoft2-1.0-0:amd64 (1.40.12-1) ...\n"
          ],
          "name": "stdout"
        },
        {
          "output_type": "stream",
          "text": [
            "Selecting previously unselected package libpangocairo-1.0-0:amd64.\r\n",
            "Preparing to unpack .../20-libpangocairo-1.0-0_1.40.12-1_amd64.deb ...\r\n",
            "Unpacking libpangocairo-1.0-0:amd64 (1.40.12-1) ...\n",
            "Selecting previously unselected package libpathplan4.\n",
            "Preparing to unpack .../21-libpathplan4_2.38.0-16ubuntu2_amd64.deb ...\n",
            "Unpacking libpathplan4 (2.38.0-16ubuntu2) ...\n",
            "Selecting previously unselected package libgvc6.\n",
            "Preparing to unpack .../22-libgvc6_2.38.0-16ubuntu2_amd64.deb ...\n",
            "Unpacking libgvc6 (2.38.0-16ubuntu2) ...\n",
            "Selecting previously unselected package libgvpr2.\n",
            "Preparing to unpack .../23-libgvpr2_2.38.0-16ubuntu2_amd64.deb ...\n",
            "Unpacking libgvpr2 (2.38.0-16ubuntu2) ...\n",
            "Selecting previously unselected package libxt6:amd64.\n",
            "Preparing to unpack .../24-libxt6_1%3a1.1.5-1_amd64.deb ...\n",
            "Unpacking libxt6:amd64 (1:1.1.5-1) ...\n",
            "Selecting previously unselected package libxmu6:amd64.\n",
            "Preparing to unpack .../25-libxmu6_2%3a1.1.2-2_amd64.deb ...\n",
            "Unpacking libxmu6:amd64 (2:1.1.2-2) ...\n",
            "Selecting previously unselected package libxaw7:amd64.\n",
            "Preparing to unpack .../26-libxaw7_2%3a1.0.13-1_amd64.deb ...\n",
            "Unpacking libxaw7:amd64 (2:1.0.13-1) ...\n",
            "Selecting previously unselected package graphviz.\n",
            "Preparing to unpack .../27-graphviz_2.38.0-16ubuntu2_amd64.deb ...\n",
            "Unpacking graphviz (2.38.0-16ubuntu2) ...\n",
            "Setting up libpathplan4 (2.38.0-16ubuntu2) ...\n",
            "Setting up libxcb-render0:amd64 (1.12-1ubuntu1) ...\n",
            "Setting up libjbig0:amd64 (2.1-3.1) ...\n",
            "Setting up libdatrie1:amd64 (0.2.10-5) ...\n",
            "Setting up libtiff5:amd64 (4.0.8-5ubuntu0.1) ...\n",
            "Setting up libgraphite2-3:amd64 (1.3.10-2) ...\n",
            "Setting up libpixman-1-0:amd64 (0.34.0-1) ...\n",
            "Processing triggers for libc-bin (2.26-0ubuntu2.1) ...\n",
            "Setting up libltdl7:amd64 (2.4.6-2) ...\n",
            "Setting up libxcb-shm0:amd64 (1.12-1ubuntu1) ...\n",
            "Setting up libxpm4:amd64 (1:3.5.12-1) ...\n",
            "Setting up libxt6:amd64 (1:1.1.5-1) ...\n",
            "Setting up libthai-data (0.1.26-3) ...\n",
            "Setting up libcdt5 (2.38.0-16ubuntu2) ...\n",
            "Setting up fontconfig (2.11.94-0ubuntu2) ...\n",
            "Regenerating fonts cache... done.\n",
            "Setting up libcgraph6 (2.38.0-16ubuntu2) ...\n",
            "Setting up libwebp6:amd64 (0.6.0-3) ...\n",
            "Setting up libcairo2:amd64 (1.14.10-1ubuntu1) ...\n",
            "Setting up libgvpr2 (2.38.0-16ubuntu2) ...\n",
            "Setting up libgd3:amd64 (2.2.5-3) ...\n",
            "Setting up libharfbuzz0b:amd64 (1.4.2-1) ...\n",
            "Setting up libthai0:amd64 (0.1.26-3) ...\n",
            "Setting up libxmu6:amd64 (2:1.1.2-2) ...\n",
            "Setting up libpango-1.0-0:amd64 (1.40.12-1) ...\n",
            "Setting up libxaw7:amd64 (2:1.0.13-1) ...\n",
            "Setting up libpangoft2-1.0-0:amd64 (1.40.12-1) ...\n",
            "Setting up libpangocairo-1.0-0:amd64 (1.40.12-1) ...\n",
            "Setting up libgvc6 (2.38.0-16ubuntu2) ...\n",
            "Setting up graphviz (2.38.0-16ubuntu2) ...\n",
            "Processing triggers for libc-bin (2.26-0ubuntu2.1) ...\n",
            "Collecting chaineripy\n",
            "  Downloading https://files.pythonhosted.org/packages/6d/95/0cbdc0e11ceebfc0e1122f50c2c30d1d7cb92a089e80afda7a96524958d3/chaineripy-0.1.1-py2.py3-none-any.whl\n",
            "Requirement already satisfied: chainer>=1.11 in /usr/local/lib/python3.6/dist-packages (from chaineripy) (4.0.0b3)\n",
            "Requirement already satisfied: pandas in /usr/local/lib/python3.6/dist-packages (from chaineripy) (0.22.0)\n",
            "Requirement already satisfied: ipython>=4 in /usr/local/lib/python3.6/dist-packages (from chaineripy) (5.5.0)\n",
            "Collecting ipywidgets (from chaineripy)\n",
            "\u001b[?25l  Downloading https://files.pythonhosted.org/packages/95/0d/0a97f753f1cd070c1dae077b242038e4de0749e7b29789abca75ee881bbe/ipywidgets-7.3.1-py2.py3-none-any.whl (108kB)\n",
            "\u001b[K    100% |████████████████████████████████| 112kB 2.7MB/s \n",
            "\u001b[?25hRequirement already satisfied: filelock in /usr/local/lib/python3.6/dist-packages (from chainer>=1.11->chaineripy) (3.0.4)\n",
            "Requirement already satisfied: protobuf>=3.0.0 in /usr/local/lib/python3.6/dist-packages (from chainer>=1.11->chaineripy) (3.6.0)\n",
            "Requirement already satisfied: six>=1.9.0 in /usr/local/lib/python3.6/dist-packages (from chainer>=1.11->chaineripy) (1.11.0)\n",
            "Requirement already satisfied: numpy>=1.9.0 in /usr/local/lib/python3.6/dist-packages (from chainer>=1.11->chaineripy) (1.14.5)\n",
            "Requirement already satisfied: python-dateutil>=2 in /usr/local/lib/python3.6/dist-packages (from pandas->chaineripy) (2.5.3)\n",
            "Requirement already satisfied: pytz>=2011k in /usr/local/lib/python3.6/dist-packages (from pandas->chaineripy) (2018.5)\n",
            "Requirement already satisfied: setuptools>=18.5 in /usr/local/lib/python3.6/dist-packages (from ipython>=4->chaineripy) (39.1.0)\n",
            "Requirement already satisfied: pygments in /usr/local/lib/python3.6/dist-packages (from ipython>=4->chaineripy) (2.1.3)\n",
            "Requirement already satisfied: pexpect; sys_platform != \"win32\" in /usr/local/lib/python3.6/dist-packages (from ipython>=4->chaineripy) (4.6.0)\n",
            "Requirement already satisfied: traitlets>=4.2 in /usr/local/lib/python3.6/dist-packages (from ipython>=4->chaineripy) (4.3.2)\n",
            "Requirement already satisfied: decorator in /usr/local/lib/python3.6/dist-packages (from ipython>=4->chaineripy) (4.3.0)\n",
            "Requirement already satisfied: simplegeneric>0.8 in /usr/local/lib/python3.6/dist-packages (from ipython>=4->chaineripy) (0.8.1)\n",
            "Requirement already satisfied: prompt-toolkit<2.0.0,>=1.0.4 in /usr/local/lib/python3.6/dist-packages (from ipython>=4->chaineripy) (1.0.15)\n",
            "Requirement already satisfied: pickleshare in /usr/local/lib/python3.6/dist-packages (from ipython>=4->chaineripy) (0.7.4)\n",
            "Requirement already satisfied: nbformat>=4.2.0 in /usr/local/lib/python3.6/dist-packages (from ipywidgets->chaineripy) (4.4.0)\n",
            "Requirement already satisfied: ipykernel>=4.5.1 in /usr/local/lib/python3.6/dist-packages (from ipywidgets->chaineripy) (4.6.1)\n",
            "Collecting widgetsnbextension~=3.3.0 (from ipywidgets->chaineripy)\n",
            "\u001b[?25l  Downloading https://files.pythonhosted.org/packages/1e/dd/847f6e5cb98caf819e2dca50109611cc0e43b54e0f0d740ee8586a954b18/widgetsnbextension-3.3.1-py2.py3-none-any.whl (2.2MB)\n",
            "\u001b[K    26% |████████▋                       | 593kB 6.3MB/s eta 0:00:01"
          ],
          "name": "stdout"
        },
        {
          "output_type": "stream",
          "text": [
            "\u001b[K    100% |████████████████████████████████| 2.2MB 7.5MB/s \n",
            "\u001b[?25hRequirement already satisfied: ptyprocess>=0.5 in /usr/local/lib/python3.6/dist-packages (from pexpect; sys_platform != \"win32\"->ipython>=4->chaineripy) (0.6.0)\n",
            "Requirement already satisfied: ipython-genutils in /usr/local/lib/python3.6/dist-packages (from traitlets>=4.2->ipython>=4->chaineripy) (0.2.0)\n",
            "Requirement already satisfied: wcwidth in /usr/local/lib/python3.6/dist-packages (from prompt-toolkit<2.0.0,>=1.0.4->ipython>=4->chaineripy) (0.1.7)\n",
            "Requirement already satisfied: jupyter-core in /usr/local/lib/python3.6/dist-packages (from nbformat>=4.2.0->ipywidgets->chaineripy) (4.4.0)\n",
            "Requirement already satisfied: jsonschema!=2.5.0,>=2.4 in /usr/local/lib/python3.6/dist-packages (from nbformat>=4.2.0->ipywidgets->chaineripy) (2.6.0)\n",
            "Requirement already satisfied: jupyter-client in /usr/local/lib/python3.6/dist-packages (from ipykernel>=4.5.1->ipywidgets->chaineripy) (5.2.3)\n",
            "Requirement already satisfied: tornado>=4.0 in /usr/local/lib/python3.6/dist-packages (from ipykernel>=4.5.1->ipywidgets->chaineripy) (4.5.3)\n",
            "Requirement already satisfied: notebook>=4.4.1 in /usr/local/lib/python3.6/dist-packages (from widgetsnbextension~=3.3.0->ipywidgets->chaineripy) (5.2.2)\n",
            "Requirement already satisfied: pyzmq>=13 in /usr/local/lib/python3.6/dist-packages (from jupyter-client->ipykernel>=4.5.1->ipywidgets->chaineripy) (16.0.4)\n",
            "Requirement already satisfied: nbconvert in /usr/local/lib/python3.6/dist-packages (from notebook>=4.4.1->widgetsnbextension~=3.3.0->ipywidgets->chaineripy) (5.3.1)\n",
            "Requirement already satisfied: terminado>=0.3.3; sys_platform != \"win32\" in /usr/local/lib/python3.6/dist-packages (from notebook>=4.4.1->widgetsnbextension~=3.3.0->ipywidgets->chaineripy) (0.8.1)\n",
            "Requirement already satisfied: jinja2 in /usr/local/lib/python3.6/dist-packages (from notebook>=4.4.1->widgetsnbextension~=3.3.0->ipywidgets->chaineripy) (2.10)\n",
            "Requirement already satisfied: mistune>=0.7.4 in /usr/local/lib/python3.6/dist-packages (from nbconvert->notebook>=4.4.1->widgetsnbextension~=3.3.0->ipywidgets->chaineripy) (0.8.3)\n",
            "Requirement already satisfied: bleach in /usr/local/lib/python3.6/dist-packages (from nbconvert->notebook>=4.4.1->widgetsnbextension~=3.3.0->ipywidgets->chaineripy) (2.1.3)\n",
            "Requirement already satisfied: entrypoints>=0.2.2 in /usr/local/lib/python3.6/dist-packages (from nbconvert->notebook>=4.4.1->widgetsnbextension~=3.3.0->ipywidgets->chaineripy) (0.2.3)\n",
            "Requirement already satisfied: testpath in /usr/local/lib/python3.6/dist-packages (from nbconvert->notebook>=4.4.1->widgetsnbextension~=3.3.0->ipywidgets->chaineripy) (0.3.1)\n",
            "Requirement already satisfied: pandocfilters>=1.4.1 in /usr/local/lib/python3.6/dist-packages (from nbconvert->notebook>=4.4.1->widgetsnbextension~=3.3.0->ipywidgets->chaineripy) (1.4.2)\n",
            "Requirement already satisfied: MarkupSafe>=0.23 in /usr/local/lib/python3.6/dist-packages (from jinja2->notebook>=4.4.1->widgetsnbextension~=3.3.0->ipywidgets->chaineripy) (1.0)\n",
            "Requirement already satisfied: html5lib!=1.0b1,!=1.0b2,!=1.0b3,!=1.0b4,!=1.0b5,!=1.0b6,!=1.0b7,!=1.0b8,>=0.99999999pre in /usr/local/lib/python3.6/dist-packages (from bleach->nbconvert->notebook>=4.4.1->widgetsnbextension~=3.3.0->ipywidgets->chaineripy) (1.0.1)\n",
            "Requirement already satisfied: webencodings in /usr/local/lib/python3.6/dist-packages (from html5lib!=1.0b1,!=1.0b2,!=1.0b3,!=1.0b4,!=1.0b5,!=1.0b6,!=1.0b7,!=1.0b8,>=0.99999999pre->bleach->nbconvert->notebook>=4.4.1->widgetsnbextension~=3.3.0->ipywidgets->chaineripy) (0.5.1)\n",
            "Installing collected packages: widgetsnbextension, ipywidgets, chaineripy\n",
            "Successfully installed chaineripy-0.1.1 ipywidgets-7.3.1 widgetsnbextension-3.3.1\n"
          ],
          "name": "stdout"
        }
      ]
    },
    {
      "metadata": {
        "id": "4miXrVukhzLV",
        "colab_type": "code",
        "colab": {}
      },
      "cell_type": "code",
      "source": [
        "import chainer\n",
        "import numpy as np\n",
        "import pandas as pd\n",
        "np.random.seed(151)\n",
        "from chainer import Chain, configuration\n",
        "import chainer.links as L\n",
        "import chainer.functions as F\n",
        "from chainer.optimizers import Adam\n",
        "from chainer.datasets import mnist\n",
        "from chainer.iterators import SerialIterator\n",
        "from chainer.training import StandardUpdater, Trainer\n",
        "from chainer.training.extensions import PrintReport, LogReport, Evaluator\n",
        "from chainer.datasets import get_fashion_mnist\n",
        "import matplotlib.pyplot as plt"
      ],
      "execution_count": 0,
      "outputs": []
    },
    {
      "metadata": {
        "id": "d8CCGn4ciUau",
        "colab_type": "code",
        "colab": {
          "base_uri": "https://localhost:8080/",
          "height": 51
        },
        "outputId": "93281bd9-7bed-466f-aa8a-2d5b88c141c8"
      },
      "cell_type": "code",
      "source": [
        "print(\"GPU availability:\",chainer.cuda.available)\n",
        "print(\"cuDNN availablility:\",chainer.cuda.cudnn_enabled)"
      ],
      "execution_count": 6,
      "outputs": [
        {
          "output_type": "stream",
          "text": [
            "GPU availability: True\n",
            "cuDNN availablility: True\n"
          ],
          "name": "stdout"
        }
      ]
    },
    {
      "metadata": {
        "id": "aKK9CLh1iMAl",
        "colab_type": "code",
        "colab": {
          "base_uri": "https://localhost:8080/",
          "height": 85
        },
        "outputId": "b8a3f6f1-1ef0-4d82-c171-4f1acc0b0158"
      },
      "cell_type": "code",
      "source": [
        "train, test = get_fashion_mnist(withlabel=True, ndim=3, scale=255.)"
      ],
      "execution_count": 7,
      "outputs": [
        {
          "output_type": "stream",
          "text": [
            "Downloading from http://fashion-mnist.s3-website.eu-central-1.amazonaws.com/train-images-idx3-ubyte.gz...\n",
            "Downloading from http://fashion-mnist.s3-website.eu-central-1.amazonaws.com/train-labels-idx1-ubyte.gz...\n",
            "Downloading from http://fashion-mnist.s3-website.eu-central-1.amazonaws.com/t10k-images-idx3-ubyte.gz...\n",
            "Downloading from http://fashion-mnist.s3-website.eu-central-1.amazonaws.com/t10k-labels-idx1-ubyte.gz...\n"
          ],
          "name": "stderr"
        }
      ]
    },
    {
      "metadata": {
        "id": "6Ls7oGWJixk2",
        "colab_type": "code",
        "colab": {
          "base_uri": "https://localhost:8080/",
          "height": 85
        },
        "outputId": "518d8d3c-3c56-4318-a569-a90c93528d16"
      },
      "cell_type": "code",
      "source": [
        "print(train._datasets[0].shape)\n",
        "print(train._datasets[1].shape)\n",
        "print(test._datasets[0].shape)\n",
        "print(test._datasets[1].shape)"
      ],
      "execution_count": 8,
      "outputs": [
        {
          "output_type": "stream",
          "text": [
            "(60000, 1, 28, 28)\n",
            "(60000,)\n",
            "(10000, 1, 28, 28)\n",
            "(10000,)\n"
          ],
          "name": "stdout"
        }
      ]
    },
    {
      "metadata": {
        "id": "QlSCQDp7l3_o",
        "colab_type": "code",
        "colab": {}
      },
      "cell_type": "code",
      "source": [
        "X_train = train._datasets[0]\n",
        "y_train = train._datasets[1]\n",
        "X_test = test._datasets[0]\n",
        "y_test= test._datasets[1]"
      ],
      "execution_count": 0,
      "outputs": []
    },
    {
      "metadata": {
        "id": "VC1X3a6plwPW",
        "colab_type": "code",
        "colab": {
          "base_uri": "https://localhost:8080/",
          "height": 1837
        },
        "outputId": "89f6d0de-59df-40e0-bb77-34ee6b077bd7"
      },
      "cell_type": "code",
      "source": [
        "for i  in range(5):\n",
        "    plt.imshow(X_train[i].reshape(28,28),cmap=\"gray_r\")\n",
        "    plt.show()\n",
        "    print(\"label is\",y_train[i])\n",
        "    print(\"**************************************\")"
      ],
      "execution_count": 11,
      "outputs": [
        {
          "output_type": "display_data",
          "data": {
            "image/png": "[encoded data removed]",
            "text/plain": [
              "<matplotlib.figure.Figure at 0x7f80b7f6def0>"
            ]
          },
          "metadata": {
            "tags": []
          }
        },
        {
          "output_type": "stream",
          "text": [
            "label is 9\n",
            "**************************************\n"
          ],
          "name": "stdout"
        },
        {
          "output_type": "display_data",
          "data": {
            "image/png": "[encoded data removed]",
            "text/plain": [
              "<matplotlib.figure.Figure at 0x7f80b7a899b0>"
            ]
          },
          "metadata": {
            "tags": []
          }
        },
        {
          "output_type": "stream",
          "text": [
            "label is 0\n",
            "**************************************\n"
          ],
          "name": "stdout"
        },
        {
          "output_type": "display_data",
          "data": {
            "image/png": "[encoded data removed]",
            "text/plain": [
              "<matplotlib.figure.Figure at 0x7f80b8023208>"
            ]
          },
          "metadata": {
            "tags": []
          }
        },
        {
          "output_type": "stream",
          "text": [
            "label is 0\n",
            "**************************************\n"
          ],
          "name": "stdout"
        },
        {
          "output_type": "display_data",
          "data": {
            "image/png": "[encoded data removed]",
            "text/plain": [
              "<matplotlib.figure.Figure at 0x7f80b59c39e8>"
            ]
          },
          "metadata": {
            "tags": []
          }
        },
        {
          "output_type": "stream",
          "text": [
            "label is 3\n",
            "**************************************\n"
          ],
          "name": "stdout"
        },
        {
          "output_type": "display_data",
          "data": {
            "image/png": "[encoded data removed]",
            "text/plain": [
              "<matplotlib.figure.Figure at 0x7f80b5929780>"
            ]
          },
          "metadata": {
            "tags": []
          }
        },
        {
          "output_type": "stream",
          "text": [
            "label is 0\n",
            "**************************************\n"
          ],
          "name": "stdout"
        }
      ]
    },
    {
      "metadata": {
        "id": "ihuybdNel0UO",
        "colab_type": "code",
        "colab": {}
      },
      "cell_type": "code",
      "source": [
        "# モデルの作成\n",
        "class LeNet(Chain):\n",
        "    def __init__(self):\n",
        "        super(LeNet,self).__init__()\n",
        "        with self.init_scope():\n",
        "            self.conv1 = L.Convolution2D(1,6,5)\n",
        "            self.batch1 = L.BatchNormalization(6)\n",
        "            self.conv2 = L.Convolution2D(6,16,5)\n",
        "            self.batch2 = L.BatchNormalization(16)\n",
        "            self.fc1 = L.Linear(120)\n",
        "            self.fc2 = L.Linear(64)\n",
        "            self.fc3 = L.Linear(10)\n",
        "    \n",
        "    def __call__(self,x):\n",
        "        h = F.max_pooling_2d(self.batch1(F.relu(self.conv1(x))),2,stride=2)\n",
        "        h = F.max_pooling_2d(self.batch2(F.relu(self.conv2(h))),2,stride=2)\n",
        "        h = F.relu(self.fc1(h)) \n",
        "        h = F.dropout(h,ratio=0.5)\n",
        "        h = F.relu(self.fc2(h))\n",
        "        h = F.dropout(h,ratio=0.5)\n",
        "        return self.fc3(h)"
      ],
      "execution_count": 0,
      "outputs": []
    },
    {
      "metadata": {
        "id": "6PAvPe0Ll8QS",
        "colab_type": "code",
        "colab": {
          "base_uri": "https://localhost:8080/",
          "height": 884
        },
        "outputId": "b05a7c8c-0965-4d55-98f7-d406d6432f43"
      },
      "cell_type": "code",
      "source": [
        "# 学習の実行（CPU）\n",
        "model = LeNet()\n",
        "\n",
        "classifier = L.Classifier(model)\n",
        "optimizer = Adam()\n",
        "optimizer.setup(classifier)\n",
        "train_iterator = SerialIterator(train, batch_size=100, repeat=True)\n",
        "test_iterator = SerialIterator(test, batch_size=100, shuffle=False, repeat=False)\n",
        "updater = StandardUpdater(train_iterator, optimizer, loss_func=classifier)\n",
        "trainer = Trainer(updater, (5001, 'iteration'))\n",
        "trainer.extend(Evaluator(test_iterator, classifier), trigger=(10, 'iteration'), name=\"test\")\n",
        "trainer.extend(PrintReport(['iteration', \"elapsed_time\",\"main/loss\", \"test/main/loss\",\"main/accuracy\",\"test/main/accuracy\"]))\n",
        "\n",
        "logreport = LogReport(trigger=(100, 'iteration'))\n",
        "trainer.extend(logreport)\n",
        "trainer.run()"
      ],
      "execution_count": 27,
      "outputs": [
        {
          "output_type": "stream",
          "text": [
            "iteration   elapsed_time  main/loss   test/main/loss  main/accuracy  test/main/accuracy\n",
            "\u001b[J100         42.2483       1.48012     1.02023         0.4889         0.67405             \n",
            "\u001b[J200         83.1596       0.895449    0.647328        0.6783         0.75767             \n",
            "\u001b[J300         123.804       0.740545    0.579153        0.7342         0.77585             \n",
            "\u001b[J400         165.304       0.684683    0.53889         0.7432         0.78765             \n",
            "\u001b[J500         206.573       0.641445    0.513606        0.7637         0.80223             \n",
            "\u001b[J600         247.157       0.586481    0.492498        0.7848         0.80957             \n",
            "\u001b[J700         287.604       0.574745    0.475798        0.7916         0.81971             \n",
            "\u001b[J800         328.183       0.555745    0.464073        0.7987         0.82616             \n",
            "\u001b[J900         368.311       0.530296    0.450044        0.8087         0.83078             \n",
            "\u001b[J1000        407.825       0.531646    0.435515        0.811          0.83872             \n",
            "\u001b[J1100        448.528       0.513011    0.42699         0.8177         0.83975             \n",
            "\u001b[J1200        489.518       0.483943    0.416332        0.8308         0.84669             \n",
            "\u001b[J1300        529.73        0.479225    0.409038        0.8393         0.84824             \n",
            "\u001b[J1400        569.556       0.4711      0.400724        0.8335         0.85224             \n",
            "\u001b[J1500        609.362       0.449508    0.394865        0.8418         0.85478             \n",
            "\u001b[J1600        649.625       0.467005    0.389387        0.8361         0.85502             \n",
            "\u001b[J1700        692.204       0.446972    0.386373        0.8419         0.85612             \n",
            "\u001b[J1800        735.078       0.451397    0.384397        0.8395         0.85616             \n",
            "\u001b[J1900        778.237       0.43998     0.373689        0.8478         0.86069             \n",
            "\u001b[J2000        821.232       0.413324    0.36916         0.8568         0.86462             \n",
            "\u001b[J2100        862.946       0.430031    0.367299        0.8573         0.86469             \n",
            "\u001b[J2200        903.786       0.417487    0.362249        0.8527         0.86764             \n",
            "\u001b[J2300        943.813       0.416714    0.362566        0.8621         0.86753             \n",
            "\u001b[J2400        984.046       0.408094    0.355595        0.8584         0.87065             \n",
            "\u001b[J2500        1024.36       0.401135    0.351649        0.8587         0.87164             \n",
            "\u001b[J2600        1064.87       0.399284    0.351642        0.8637         0.87175             \n",
            "\u001b[J2700        1104.7        0.392267    0.354183        0.86           0.87126             \n",
            "\u001b[J2800        1144.12       0.390076    0.35021         0.866          0.86938             \n",
            "\u001b[J2900        1183.64       0.398254    0.345398        0.8629         0.87234             \n",
            "\u001b[J3000        1224.04       0.38134     0.341242        0.8657         0.87376             \n",
            "\u001b[J3100        1263.92       0.376605    0.342455        0.8703         0.87356             \n",
            "\u001b[J3200        1303.62       0.381138    0.338975        0.867          0.87388             \n",
            "\u001b[J3300        1344.61       0.372832    0.339781        0.8656         0.87512             \n",
            "\u001b[J3400        1385.14       0.374083    0.343067        0.8685         0.87372             \n",
            "\u001b[J3500        1425.32       0.368279    0.333029        0.8726         0.87845             \n",
            "\u001b[J3600        1465.13       0.384253    0.337043        0.8686         0.87672             \n",
            "\u001b[J3700        1504.45       0.364297    0.338632        0.8734         0.87576             \n",
            "\u001b[J3800        1543.6        0.354983    0.334212        0.8735         0.8782              \n",
            "\u001b[J3900        1582.8        0.368579    0.328374        0.8709         0.87981             \n",
            "\u001b[J4000        1621.97       0.340613    0.325187        0.8815         0.88126             \n",
            "\u001b[J4100        1661          0.353543    0.329982        0.8739         0.87959             \n",
            "\u001b[J4200        1700.27       0.373166    0.329243        0.871          0.88022             \n",
            "\u001b[J4300        1739.78       0.349712    0.324058        0.8793         0.88256             \n",
            "\u001b[J4400        1787.39       0.344951    0.329339        0.879          0.87975             \n"
          ],
          "name": "stdout"
        },
        {
          "output_type": "stream",
          "text": [
            "\u001b[J4500        1829.47       0.332033    0.328645        0.88           0.88056             \n",
            "\u001b[J4600        1868.49       0.348769    0.323081        0.8788         0.88252             \n",
            "\u001b[J4700        1907.3        0.359367    0.325586        0.8786         0.88228             \n",
            "\u001b[J4800        1946.95       0.354366    0.320017        0.8772         0.88406             \n",
            "\u001b[J4900        1986.03       0.329131    0.328293        0.8845         0.88291             \n",
            "\u001b[J5000        2025.22       0.335863    0.319304        0.8854         0.88478             \n"
          ],
          "name": "stdout"
        }
      ]
    },
    {
      "metadata": {
        "id": "xDg-DLmc50ID",
        "colab_type": "code",
        "colab": {}
      },
      "cell_type": "code",
      "source": [
        "model = LeNet()"
      ],
      "execution_count": 0,
      "outputs": []
    },
    {
      "metadata": {
        "id": "EiapsOO551Ei",
        "colab_type": "code",
        "colab": {}
      },
      "cell_type": "code",
      "source": [
        "gpu_id = 0\n",
        "if gpu_id >= 0:\n",
        "  model.to_gpu(gpu_id)"
      ],
      "execution_count": 0,
      "outputs": []
    },
    {
      "metadata": {
        "id": "G6G_mkDJ5c40",
        "colab_type": "code",
        "colab": {
          "base_uri": "https://localhost:8080/",
          "height": 884
        },
        "outputId": "e44c66d3-25f5-4fc7-a5b1-d518a8287be4"
      },
      "cell_type": "code",
      "source": [
        "# 学習の実行（GPU）\n",
        "classifier = L.Classifier(model)\n",
        "optimizer = Adam()\n",
        "optimizer.setup(classifier)\n",
        "train_iterator = SerialIterator(train, batch_size=100, repeat=True)\n",
        "test_iterator = SerialIterator(test, batch_size=100, shuffle=False, repeat=False)\n",
        "updater = StandardUpdater(train_iterator, optimizer, loss_func=classifier,device=gpu_id)\n",
        "trainer = Trainer(updater, (5001, 'iteration'))\n",
        "trainer.extend(Evaluator(test_iterator, classifier,device=gpu_id), trigger=(10, 'iteration'), name=\"test\")\n",
        "trainer.extend(PrintReport(['iteration', \"elapsed_time\",\"main/loss\", \"test/main/loss\",\"main/accuracy\",\"test/main/accuracy\"]))\n",
        "\n",
        "logreport = LogReport(trigger=(100, 'iteration'))\n",
        "trainer.extend(logreport)\n",
        "trainer.run()"
      ],
      "execution_count": 38,
      "outputs": [
        {
          "output_type": "stream",
          "text": [
            "iteration   elapsed_time  main/loss   test/main/loss  main/accuracy  test/main/accuracy\n",
            "\u001b[J100         14.8583       1.306       0.90787         0.5121         0.68931             \n",
            "\u001b[J200         27.4726       0.858616    0.629747        0.6881         0.7626              \n",
            "\u001b[J300         42.6078       0.732521    0.558748        0.734          0.78606             \n",
            "\u001b[J400         58.0232       0.651136    0.526143        0.7685         0.80225             \n",
            "\u001b[J500         70.3385       0.614535    0.49012         0.7852         0.81812             \n",
            "\u001b[J600         79.0342       0.582108    0.473959        0.7962         0.82418             \n",
            "\u001b[J700         85.7404       0.552623    0.448386        0.8075         0.83604             \n",
            "\u001b[J800         92.4979       0.544731    0.438421        0.8131         0.83879             \n",
            "\u001b[J900         99.2291       0.500702    0.427612        0.8251         0.84313             \n",
            "\u001b[J1000        105.943       0.498065    0.414864        0.8227         0.84667             \n",
            "\u001b[J1100        114.64        0.500795    0.410281        0.8298         0.84981             \n",
            "\u001b[J1200        126.33        0.484536    0.401403        0.8304         0.85155             \n",
            "\u001b[J1300        138.035       0.456851    0.400769        0.8421         0.85396             \n",
            "\u001b[J1400        149.706       0.467781    0.393862        0.8368         0.85519             \n",
            "\u001b[J1500        161.533       0.440234    0.387026        0.8448         0.85948             \n",
            "\u001b[J1600        173.262       0.458799    0.384818        0.8377         0.85852             \n",
            "\u001b[J1700        184.977       0.439395    0.376064        0.8481         0.86204             \n",
            "\u001b[J1800        196.725       0.435875    0.375926        0.8495         0.8624              \n",
            "\u001b[J1900        208.489       0.41442     0.36684         0.8562         0.8673              \n",
            "\u001b[J2000        220.288       0.425932    0.369039        0.8541         0.86577             \n",
            "\u001b[J2100        232.056       0.423337    0.359981        0.8549         0.86988             \n",
            "\u001b[J2200        243.855       0.411935    0.359618        0.8569         0.87048             \n",
            "\u001b[J2300        255.607       0.406485    0.360006        0.8583         0.86965             \n",
            "\u001b[J2400        267.377       0.401222    0.353755        0.8605         0.87035             \n",
            "\u001b[J2500        279.143       0.398715    0.351743        0.8639         0.87387             \n",
            "\u001b[J2600        290.876       0.392602    0.348901        0.8669         0.87408             \n",
            "\u001b[J2700        302.748       0.408265    0.348777        0.8582         0.8738              \n",
            "\u001b[J2800        314.429       0.385854    0.346521        0.8664         0.87473             \n",
            "\u001b[J2900        326.218       0.382764    0.343867        0.8671         0.87721             \n",
            "\u001b[J3000        335.495       0.389589    0.343477        0.8662         0.87501             \n",
            "\u001b[J3100        342.254       0.367763    0.33936         0.8692         0.87727             \n",
            "\u001b[J3200        349.015       0.371226    0.341221        0.8696         0.87687             \n",
            "\u001b[J3300        355.767       0.374275    0.339605        0.8772         0.87721             \n",
            "\u001b[J3400        362.537       0.367601    0.33326         0.872          0.8809              \n",
            "\u001b[J3500        369.303       0.376844    0.331278        0.8692         0.88082             \n",
            "\u001b[J3600        376.088       0.378271    0.334563        0.8703         0.87805             \n",
            "\u001b[J3700        386.972       0.364708    0.330386        0.8756         0.88029             \n",
            "\u001b[J3800        398.774       0.357227    0.333404        0.8784         0.88134             \n",
            "\u001b[J3900        410.489       0.359404    0.331109        0.8746         0.88103             \n",
            "\u001b[J4000        422.256       0.37018     0.3307          0.873          0.88069             \n",
            "\u001b[J4100        434.032       0.366718    0.329093        0.873          0.88147             \n",
            "\u001b[J4200        445.789       0.351287    0.325847        0.8762         0.88312             \n",
            "\u001b[J4300        457.589       0.356362    0.330485        0.8744         0.88092             \n",
            "\u001b[J4400        469.422       0.36024     0.32174         0.8723         0.88385             \n"
          ],
          "name": "stdout"
        },
        {
          "output_type": "stream",
          "text": [
            "\u001b[J4500        481.206       0.343494    0.322591        0.8796         0.88545             \n",
            "\u001b[J4600        492.999       0.339684    0.323546        0.8813         0.88361             \n",
            "\u001b[J4700        504.89        0.339747    0.319902        0.881          0.88534             \n",
            "\u001b[J4800        516.72        0.350905    0.32018         0.8775         0.88697             \n",
            "\u001b[J4900        528.51        0.327907    0.321381        0.8825         0.88514             \n",
            "\u001b[J5000        540.269       0.321371    0.323535        0.8875         0.88385             \n"
          ],
          "name": "stdout"
        }
      ]
    },
    {
      "metadata": {
        "id": "yCZXO_JXo1Zd",
        "colab_type": "code",
        "colab": {
          "base_uri": "https://localhost:8080/",
          "height": 378
        },
        "outputId": "d2aa17e7-5a20-4e01-eaca-c6f1e5780d14"
      },
      "cell_type": "code",
      "source": [
        "log_df = pd.DataFrame(logreport.log)\n",
        "pd.DataFrame(log_df[[\"main/accuracy\", \"test/main/accuracy\"]].values, columns=[\"main/accuracy\", \"test/main/accuracy\"], index=log_df[\"iteration\"]).plot()"
      ],
      "execution_count": 28,
      "outputs": [
        {
          "output_type": "execute_result",
          "data": {
            "text/plain": [
              "<matplotlib.axes._subplots.AxesSubplot at 0x7f80b4764208>"
            ]
          },
          "metadata": {
            "tags": []
          },
          "execution_count": 28
        },
        {
          "output_type": "display_data",
          "data": {
            "image/png": "[encoded data removed]",
            "text/plain": [
              "<matplotlib.figure.Figure at 0x7f80b4764a58>"
            ]
          },
          "metadata": {
            "tags": []
          }
        }
      ]
    },
    {
      "metadata": {
        "id": "jwDLW7VTo7jQ",
        "colab_type": "code",
        "colab": {
          "base_uri": "https://localhost:8080/",
          "height": 378
        },
        "outputId": "b45fe2c9-56f3-4893-8eda-1a0da5c04e36"
      },
      "cell_type": "code",
      "source": [
        "log_df = pd.DataFrame(logreport.log)\n",
        "pd.DataFrame(log_df[[\"main/loss\", \"test/main/loss\"]].values, columns=[\"main/loss\", \"test/main/loss\"], index=log_df[\"iteration\"]).plot()"
      ],
      "execution_count": 29,
      "outputs": [
        {
          "output_type": "execute_result",
          "data": {
            "text/plain": [
              "<matplotlib.axes._subplots.AxesSubplot at 0x7f80b45e7080>"
            ]
          },
          "metadata": {
            "tags": []
          },
          "execution_count": 29
        },
        {
          "output_type": "display_data",
          "data": {
            "image/png": "[encoded data removed]",
            "text/plain": [
              "<matplotlib.figure.Figure at 0x7f80b598f6a0>"
            ]
          },
          "metadata": {
            "tags": []
          }
        }
      ]
    },
    {
      "metadata": {
        "id": "khsyTh6Zl-sD",
        "colab_type": "code",
        "colab": {
          "base_uri": "https://localhost:8080/",
          "height": 289
        },
        "outputId": "227b24f1-54c2-48ce-edcd-5e6f02700241"
      },
      "cell_type": "code",
      "source": [
        "from sklearn.metrics import classification_report\n",
        "\n",
        "with configuration.using_config('train', False):\n",
        "    predicts = model(np.array([data[0] for data in test], dtype=np.float32))\n",
        "predicts = np.array([predict.data for predict in predicts])\n",
        "predicts_y = np.argmax(predicts, axis=1)\n",
        "\n",
        "print(\"*** Scores for Test data ***\")\n",
        "print(classification_report(np.array([data[1] for data in test], dtype=np.float32), predicts_y))"
      ],
      "execution_count": 30,
      "outputs": [
        {
          "output_type": "stream",
          "text": [
            "*** Scores for Test data ***\n",
            "             precision    recall  f1-score   support\n",
            "\n",
            "        0.0       0.85      0.83      0.84      1000\n",
            "        1.0       1.00      0.96      0.98      1000\n",
            "        2.0       0.77      0.84      0.81      1000\n",
            "        3.0       0.86      0.91      0.89      1000\n",
            "        4.0       0.81      0.76      0.78      1000\n",
            "        5.0       0.98      0.96      0.97      1000\n",
            "        6.0       0.69      0.66      0.67      1000\n",
            "        7.0       0.91      0.98      0.94      1000\n",
            "        8.0       0.96      0.98      0.97      1000\n",
            "        9.0       0.98      0.93      0.96      1000\n",
            "\n",
            "avg / total       0.88      0.88      0.88     10000\n",
            "\n"
          ],
          "name": "stdout"
        }
      ]
    },
    {
      "metadata": {
        "id": "FfpfA_MRmWsu",
        "colab_type": "code",
        "colab": {}
      },
      "cell_type": "code",
      "source": [
        "# モデルを保存する\n",
        "model = myConvNN()\n",
        "model.to_cpu()\n",
        "chainer.serializers.save_npz('my_model.npz', model, compression=True)"
      ],
      "execution_count": 0,
      "outputs": []
    }
  ]
}